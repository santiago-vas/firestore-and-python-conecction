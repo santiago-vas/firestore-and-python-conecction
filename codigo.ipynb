{
 "cells": [
  {
   "cell_type": "markdown",
   "metadata": {},
   "source": [
    "# reporte automatico de \n",
    "Recibir reporte automático de licencias de Looker bajo los siguientes criterios:\n",
    "El reporte debe contener los siguientes campos\n",
    "* fuente firestore  de looker proyecto 'lw-looker' :\n",
    "    - Client ID - business Id\n",
    "    - Cantidad de tableros\n",
    "    - Tipo de licencia  -- coleccion userDashboard - userRole\n",
    "* fuente UNIT fuente de encriptacion barre con client Id : \n",
    "    - Nombre de cliente -------> tablas device\n",
    "    - Cantidad de dispositivos\n",
    "    - Cantidad de dispositivos Can bus\n",
    "    - Cantidad de dispositivos sensor Temperatura y Humedad\n",
    "* Canal  Nombre - SQL producción\n",
    "\n",
    "El reporte se debe recibir con frecuencia semanal\n",
    "Todos días Lunes\n",
    "8 am como hora de envíom"
   ]
  },
  {
   "cell_type": "code",
   "execution_count": null,
   "metadata": {},
   "outputs": [],
   "source": [
    "!pip install pyodbc\n",
    "!pip install --upgrade firebase_admin\n",
    "!pip install --upgrade google-cloud-firestore\n",
    "\n",
    "!pip install grpcio\n",
    "!pip install gcloud\n",
    "!pip install flask==1.0.2\n",
    "!pip install google-cloud-core\n",
    "!pip install google-cloud-kms==2.2.0\n",
    "!pip install google_api_core==1.26.0\n",
    "!pip install google-api-python-client==1.7.8\n",
    "!pip install --upgrade firebase_admin\n",
    "!pip install --upgrade google-cloud-firestore\n",
    "!pip install crcmod\n",
    "# !pip install pandas==0.25.3\n",
    "!pip install virtualenv\n",
    "!pip install XlsxWriter\n",
    "!pip install oauth2client\n",
    "!pip install six\n",
    "\n",
    "!pip install --upgrade google-cloud\n",
    "!pip install --upgrade google-cloud-bigquery\n",
    "!pip install --upgrade google-cloud-storage"
   ]
  },
  {
   "cell_type": "code",
   "execution_count": null,
   "metadata": {
    "tags": [
     "parameters"
    ]
   },
   "outputs": [],
   "source": [
    "env='Sandbox'"
   ]
  },
  {
   "cell_type": "code",
   "execution_count": null,
   "metadata": {},
   "outputs": [],
   "source": [
    "import os\n",
    "import firebase_admin\n",
    "from firebase_admin import credentials\n",
    "from firebase_admin import firestore\n",
    "from sqlalchemy import create_engine\n",
    "from datetime import timedelta, time\n",
    "import pickle\n",
    "import numpy as np\n",
    "import pandas as pd\n",
    "import os\n",
    "import json\n",
    "import base64\n",
    "import math\n",
    "\n",
    "import xlsxwriter\n",
    "import smtplib\n",
    "import gspread\n",
    "import re\n",
    "import io\n",
    "import tempfile\n",
    "import pyodbc\n",
    "import time\n",
    "\n",
    "import tempfile\n",
    "\n",
    "from google.cloud import bigquery as bq\n",
    "from google.oauth2 import service_account\n",
    "from google.cloud.exceptions import NotFound\n",
    "from google.cloud import storage\n",
    "\n",
    "from email.mime.multipart import MIMEMultipart\n",
    "from email.mime.text import MIMEText\n",
    "from email.mime.base import MIMEBase\n",
    "from email import encoders\n",
    "\n",
    "from genericFunctions2 import SQLconnection\n",
    "from functionEncription2 import decryptCatalogs"
   ]
  },
  {
   "cell_type": "markdown",
   "metadata": {},
   "source": [
    "# conecction"
   ]
  },
  {
   "cell_type": "code",
   "execution_count": null,
   "metadata": {},
   "outputs": [],
   "source": [
    "crdl = service_account.Credentials.from_service_account_file('credentials_file.json')\n",
    "db=firestore.Client(project='project_name_in_firestore',credentials=crdl)"
   ]
  },
  {
   "cell_type": "markdown",
   "metadata": {},
   "source": [
    "# EXTRACCION DE INFORMACION"
   ]
  },
  {
   "cell_type": "code",
   "execution_count": null,
   "metadata": {},
   "outputs": [],
   "source": [
    "# informacion de clientes\n",
    "\n",
    "# extract information from a specific collection in firestore called \"clientData\"\n",
    "docs = db.collection('clientData').stream()\n",
    "\n",
    "# dataframe final para af\n",
    "firestore_info = pd.DataFrame([[0,0,'','']],columns=['Id','dashboardId','user_type','Fecha creación'])\n",
    "c=0\n",
    "\n",
    "# campos espeficos de la extraccion traida de ese proyecto en especifico, guardadas en registro.\n",
    "for doc in docs:\n",
    "    registro= pd.DataFrame.from_dict(doc.to_dict(), orient='index')\n",
    "    temp = pd.DataFrame([[registro.at['clientId',0],\n",
    "                        registro.at['dashboardId',0],\n",
    "                        user_type,\n",
    "                        registro.at['webParametersLastUpdate',0]]],columns=['Id','dashboardId','user_type','Fecha creación'],index=[c])\n",
    "    c=c+1\n",
    "    firestore_info=firestore_info.append(temp)"
   ]
  }
 ],
 "metadata": {
  "kernelspec": {
   "display_name": "Python 3",
   "language": "python",
   "name": "python3"
  },
  "language_info": {
   "codemirror_mode": {
    "name": "ipython",
    "version": 3
   },
   "file_extension": ".py",
   "mimetype": "text/x-python",
   "name": "python",
   "nbconvert_exporter": "python",
   "pygments_lexer": "ipython3",
   "version": "3.7.6"
  }
 },
 "nbformat": 4,
 "nbformat_minor": 4
}
