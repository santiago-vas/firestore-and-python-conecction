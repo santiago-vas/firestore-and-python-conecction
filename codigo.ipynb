{
 "cells": [
  {
   "cell_type": "code",
   "execution_count": null,
   "metadata": {},
   "outputs": [],
   "source": [
    "import os\n",
    "import firebase_admin\n",
    "from firebase_admin import credentials\n",
    "from firebase_admin import firestore\n",
    "from sqlalchemy import create_engine\n",
    "from datetime import timedelta, time\n",
    "import pickle\n",
    "import numpy as np\n",
    "import pandas as pd\n",
    "import os\n",
    "import json\n",
    "import base64\n",
    "import math\n",
    "\n",
    "import xlsxwriter\n",
    "import smtplib\n",
    "import gspread\n",
    "import re\n",
    "import io\n",
    "import tempfile\n",
    "import pyodbc\n",
    "import time\n",
    "\n",
    "import tempfile"
   ]
  },
  {
   "cell_type": "markdown",
   "metadata": {},
   "source": [
    "# conecction"
   ]
  },
  {
   "cell_type": "code",
   "execution_count": null,
   "metadata": {},
   "outputs": [],
   "source": [
    "crdl = service_account.Credentials.from_service_account_file('credentials_file.json')\n",
    "db=firestore.Client(project='project_name_in_firestore',credentials=crdl)"
   ]
  },
  {
   "cell_type": "markdown",
   "metadata": {},
   "source": [
    "# EXTRACCION DE INFORMACION"
   ]
  },
  {
   "cell_type": "code",
   "execution_count": null,
   "metadata": {},
   "outputs": [],
   "source": [
    "# informacion de clientes\n",
    "\n",
    "# extract information from a specific collection in firestore called \"clientData\"\n",
    "docs = db.collection('clientData').stream()\n",
    "\n",
    "# dataframe final para apendizar la informacion extraida por documento dentro de la coleccion\n",
    "firestore_info = pd.DataFrame([[0,0,'','']],columns=['Id','dashboardId','user_type','Fecha creación'])\n",
    "c=0\n",
    "\n",
    "# campos espeficos de la extraccion traida de ese proyecto en especifico, guardadas en registro.\n",
    "for doc in docs:\n",
    "    registro= pd.DataFrame.from_dict(doc.to_dict(), orient='index')\n",
    "    temp = pd.DataFrame([[registro.at['clientId',0],\n",
    "                        registro.at['dashboardId',0],\n",
    "                        user_type,\n",
    "                        registro.at['webParametersLastUpdate',0]]],columns=['Id','dashboardId','user_type','Fecha creación'],index=[c])\n",
    "    c=c+1\n",
    "    firestore_info=firestore_info.append(temp)"
   ]
  }
 ],
 "metadata": {
  "kernelspec": {
   "display_name": "Python 3",
   "language": "python",
   "name": "python3"
  },
  "language_info": {
   "codemirror_mode": {
    "name": "ipython",
    "version": 3
   },
   "file_extension": ".py",
   "mimetype": "text/x-python",
   "name": "python",
   "nbconvert_exporter": "python",
   "pygments_lexer": "ipython3",
   "version": "3.7.6"
  }
 },
 "nbformat": 4,
 "nbformat_minor": 4
}
